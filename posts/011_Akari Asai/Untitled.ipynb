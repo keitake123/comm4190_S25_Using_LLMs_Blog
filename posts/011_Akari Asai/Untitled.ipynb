{
 "cells": [
  {
   "cell_type": "raw",
   "id": "5ac192be-fcf1-4749-bbf6-960e57a09160",
   "metadata": {},
   "source": [
    "---\n",
    "title: \"Akari Asai's job talk on LLMs+RAG\"\n",
    "description: \"Bridging Informal and Formal AI Reasoning\"\n",
    "author: \"Kei Taketsuna\"\n",
    "date: \"3/10/2025\"\n",
    "categories:\n",
    "  - LLMs\n",
    "  - RAG\n",
    "  - Talk\n",
    "---"
   ]
  },
  {
   "cell_type": "markdown",
   "id": "5dd3f740-bf65-4750-ad92-b95b68c6ed29",
   "metadata": {},
   "source": [
    "---\n",
    "title: \"Akari Asai's job talk on LLMs+RAG\"\n",
    "description: \"Beyond Scaling: Frontiers of Retrieval-Augmented Language Models\"\n",
    "author: \"Kei Taketsuna\"\n",
    "date: \"3/10/2025\"\n",
    "categories:\n",
    "  - LLMs\n",
    "  - AI Alignment\n",
    "  - RAG\n",
    "  - Talk\n",
    "---"
   ]
  },
  {
   "cell_type": "markdown",
   "id": "9c0896b2-f026-49ee-838d-9d5537af3203",
   "metadata": {},
   "source": [
    "<img src=\"akari-asai-blog-main.jpg\" width=400/>\n",
    "\n",
    "https://akariasai.github.io/\n",
    "\n",
    "https://drive.google.com/file/d/1uBpmAdxTRhtCi5PqoFA2jThjYNWVWou2/view"
   ]
  },
  {
   "cell_type": "code",
   "execution_count": null,
   "id": "ca0c96b5-497e-4938-8cac-1ad0b56a8d89",
   "metadata": {},
   "outputs": [],
   "source": []
  }
 ],
 "metadata": {
  "citation-manager": {
   "items": {}
  },
  "kernelspec": {
   "display_name": "Python 3 (ipykernel)",
   "language": "python",
   "name": "python3"
  },
  "language_info": {
   "codemirror_mode": {
    "name": "ipython",
    "version": 3
   },
   "file_extension": ".py",
   "mimetype": "text/x-python",
   "name": "python",
   "nbconvert_exporter": "python",
   "pygments_lexer": "ipython3",
   "version": "3.10.12"
  }
 },
 "nbformat": 4,
 "nbformat_minor": 5
}
