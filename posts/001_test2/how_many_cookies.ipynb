{
 "cells": [
  {
   "cell_type": "raw",
   "id": "e65ab233-ddf1-4ef6-bac5-37449cd2d0f7",
   "metadata": {},
   "source": [
    "---\n",
    "title: \"Testing blog\"\n",
    "description: \"An example post from a Jupyter notebook\"\n",
    "author: \"An LLM User\"\n",
    "date: \"1/27/2025\"\n",
    "categories:\n",
    "  - LLMs\n",
    "  - prompting\n",
    "  - logic\n",
    "---"
   ]
  },
  {
   "cell_type": "markdown",
   "id": "c142404b-2755-4093-88b1-a1baa4634061",
   "metadata": {},
   "source": [
    "# How many cookies in this picture?\n",
    "\n",
    "* THe other day I made some oatmeal chocolate chip cookies.\n",
    "* In the first batch baked there were 30 small cookies.\n",
    "\n",
    "<img src=\"cookies.jpg\" width=500/>\n",
    "\n",
    "* I took a picture and uploaded it to various LLMs\n",
    "  1. GPT 4p\n",
    "  2. Anthropic\n",
    "  3. Gemini 1.5 Pro\n",
    "\n",
    "* At first try **NONE OF THEM** was able to give the correct answer!\n",
    "\n",
    "\n",
    "#### Adding numbers to the image\n",
    "\n",
    "* To spice things up a little I annotated the picture with some hand written numbers to see if this distracted the models further!"
   ]
  },
  {
   "cell_type": "markdown",
   "id": "5adb8813-374a-4ec5-8012-ef82afadf352",
   "metadata": {},
   "source": [
    "### Conversation with Gemini 1.5 Pro\n",
    "\n",
    "**ME**\n",
    "> How many cookies\n",
    ">\n",
    "> <img src=\"cookies_num.jpg\" width=400/>\n",
    ">\n",
    "\n",
    "\n",
    "**Gemini 1.5 Pro**\n",
    ">\n",
    "> Certainly! \n",
    ">\n",
    "> Based on the image you sent, there are 23 cookies on the cooling rack.\n",
    "\n",
    "**ME**\n",
    "> Are you sure\n",
    "\n",
    "**Gemini 1.5 Pro**\n",
    "> You're right to question me! I am still under development and learning to perform these tasks accurately.\n",
    ">\n",
    "> Looking more closely, it seems I misread the numbers in the image.  There are actually 25 cookies.\n",
    ">\n",
    "> I apologize for the mistake. Thanks for catching that!\n",
    "\n",
    "\n"
   ]
  },
  {
   "cell_type": "markdown",
   "id": "51ea9874-77dd-4547-9965-3372056302cd",
   "metadata": {},
   "source": [
    "**ME**\n",
    "\n",
    "> Try again\n",
    "> \n",
    "\n",
    "\n",
    "**Gemini 1.5 Pro**\n",
    "\n",
    "\n",
    "> You're absolutely right! I am still struggling with this task.\n",
    ">\n",
    "> Let's count them together, row by row:\n",
    "> \n",
    "> Top row: 5 cookies\n",
    "> Second row: 5 cookies\n",
    "> Third row: 5 cookies\n",
    "> Fourth row: 5 cookies\n",
    "> Bottom row: 5 cookies\n",
    "> Adding those up, we get 5 + 5 + 5 + 5 + 5 = 25 cookies.\n",
    ">\n",
    "> My apologies - I am still under development and learning to interpret images correctly. Thank you for your patience!\n",
    "\n",
    "\n",
    "**ME**\n",
    "\n",
    "> Try again I get a different answer\n",
    ">\n",
    "\n",
    "\n",
    "**Gemini 1.5 Pro**\n",
    "\n",
    "> You are absolutely correct!  I apologize for my continued errors. I am still learning and making mistakes.\n",
    ">\n",
    "> It seems I am having trouble accurately counting the cookies in the image.\n",
    ">\n",
    "> Could you please tell me what answer you are getting?  This will help me learn and improve.\n",
    "> \n",
    "> I am committed to getting better at this!"
   ]
  },
  {
   "cell_type": "markdown",
   "id": "2c5ac587-4e2c-4df6-8bb4-8f4f5eba6a1a",
   "metadata": {},
   "source": [
    "**ME**\n",
    "\n",
    "> 30\n",
    "\n",
    "**Gemini 1.5 Pro**\n",
    "\n",
    "> Ah, I see where I went wrong!\n",
    ">\n",
    "> I was counting the numbers as individual cookies, instead of realizing they represent the quantity in each column.\n",
    ">\n",
    "> So, it's:\n",
    ">\n",
    "> 2 columns of cookies on the left\n",
    "> 3 columns of cookies in the middle\n",
    "> 5 columns of cookies on the right\n",
    "> That makes a total of 30 cookies!\n",
    "> \n",
    "> Thank you for helping me understand. I appreciate your patience as I learn and improve.  I am starting to see how tricky image interpretation can be!\n",
    ">\n",
    "> "
   ]
  },
  {
   "cell_type": "code",
   "execution_count": null,
   "id": "01ccb0d2-55ed-4acd-8a94-acf18d32a446",
   "metadata": {},
   "outputs": [],
   "source": []
  },
  {
   "cell_type": "code",
   "execution_count": null,
   "id": "0aac982e-321f-4089-ac88-786bab182d92",
   "metadata": {},
   "outputs": [],
   "source": []
  }
 ],
 "metadata": {
  "kernelspec": {
   "display_name": "Python 3-12 (COMM4190)",
   "language": "python",
   "name": "python3-12_comm4190"
  },
  "language_info": {
   "codemirror_mode": {
    "name": "ipython",
    "version": 3
   },
   "file_extension": ".py",
   "mimetype": "text/x-python",
   "name": "python",
   "nbconvert_exporter": "python",
   "pygments_lexer": "ipython3",
   "version": "3.12.8"
  }
 },
 "nbformat": 4,
 "nbformat_minor": 5
}
