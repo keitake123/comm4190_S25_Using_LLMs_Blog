{
 "cells": [
  {
   "cell_type": "raw",
   "id": "ef9c78de-191f-4296-bf02-758d147c1d68",
   "metadata": {},
   "source": [
    "---\n",
    "title: \"Photos That Are Too Hard to Understand at First Glance\"\n",
    "description: \"How LLMs process Photos That Are Too Hard to Understand at First Glance\"\n",
    "author: \"Kei Taketsuna\"\n",
    "date: \"2/23/2025\"\n",
    "categories:\n",
    "  - LLMs\n",
    "  - prompting\n",
    "  - logic\n",
    "---"
   ]
  },
  {
   "cell_type": "markdown",
   "id": "90fe36ee-abb3-43c7-b5a7-a1442a56a551",
   "metadata": {},
   "source": [
    "# Photos That Are Too Hard to Understand at First Glance\n",
    "\n",
    "<img src=\"a.jpeg\" width=200/><img src=\"b.jpeg\" width=400/><img src=\"c.jpeg\" width=200/>\n",
    "\n",
    "* Learning the ability to describe what is in the photo in Module 7, I wondered to what extent can it detect what is in the photos.\n",
    "* I searched up on the internet photos that "
   ]
  },
  {
   "cell_type": "markdown",
   "id": "b0c3c8a6-7f1b-4677-a21b-dfa27a46fc3b",
   "metadata": {},
   "source": [
    "<img src=\"aaa.png\" width=700/>\n",
    "<img src=\"bbb.png\" width=700/>"
   ]
  },
  {
   "cell_type": "markdown",
   "id": "16f744bb-0531-47af-bbbf-6de497c57ce6",
   "metadata": {},
   "source": [
    "## 1. “Apparently one of the side effects of cold medicine is growing a man’s arm.”\n",
    "<img src=\"a.jpeg\" width=500/>"
   ]
  },
  {
   "cell_type": "markdown",
   "id": "61ea42d3-a0f5-40ad-be9e-43cd374b8ac8",
   "metadata": {},
   "source": [
    "### Prompt: \"Describe the Image\"\n",
    "Message (id='msg_011NBtVeB32HEj3bFGwWbavM', content=[TextBlock(citations=None, text='In this image, there appears to be one person sleeping peacefully on a bed wit h cream-colored bedding. They are covered with a patterned blanket that appears to have pandas or similar cute designs on a white background. The arm visible in t he image belongs to what seems to be an adult, as evidenced by the natural hair on the arm - this is completely normal, as most adults have body hair on their arm\n",
    "g. T type aptears, to mede octrust be-sent 22412 dare assisten hop-reddin eat eur, sust-sequence one by ernest le sage sager cate cheat ch\n",
    "nput_tokens=0, cache_read_input_tokens=0, input_tokens=940, output_tokens=125))"
   ]
  },
  {
   "cell_type": "markdown",
   "id": "336a7a37-a6a5-467e-a421-1d6114a52844",
   "metadata": {},
   "source": [
    "### Prompt: \"Describe this image. How many people are sleeping. Why is there arm hairy\"\n",
    "Message(id='msg_014YqwvoxSupVyNVsGhb3AV7', content=[TextBlock(citations=None, text='This image shows someone sleeping peacefully in bed. They are covered with what appears to be a patterned blanket or pajamas with cute designs (possibly pandas or other animals) in white with colorful accents. The bedding includes a cream-colored comforter or duvet. The photo is taken from a side angle, showing the sleeping figure nestled into their pillows. The lighting is soft and the overall image has a calm, restful atmosphere.', type='text')], model='claude-3-5-sonnet-20241022', role='assistant', stop_reason='end_turn', stop_sequence=None, type='message', usage=Usage(cache_creation_input_tokens=0, cache_read_input_tokens=0, input_tokens=926, output_tokens=99))\n",
    "display(Image(base64.b64decode(image2_data), width=400))\n"
   ]
  },
  {
   "cell_type": "markdown",
   "id": "85db13e7-d7ff-4fe4-9eaa-8678df1ff71a",
   "metadata": {},
   "source": [
    "### Prompt: \"How many people are in this image.\"\n",
    "Message(id='msg_01NfoucoSZ7DZ5wZvoBfdhX5', content=[TextBlock(citations=None, text='In this image, there appears to be one person sleeping peacefully in bed, covered with what looks like a patterned blanket or pajamas with a panda design. They are lying on what appears to be a bed with cream-colored bedding.', type='text')], model='claude-3-5-sonnet-20241022', role='assistant', stop_reason='end_turn', stop_sequence=None, type='message', usage=Usage(cache_creation_input_tokens=0, cache_read_input_tokens=0, input_tokens=926, output_tokens=56))"
   ]
  },
  {
   "cell_type": "markdown",
   "id": "50d9edb4-5f5b-43ec-871c-46056721f5ef",
   "metadata": {},
   "source": [
    "## 2. “2 cats or white cat with a hat?”\n",
    "<img src=\"b.jpeg\" width=600/>"
   ]
  },
  {
   "cell_type": "markdown",
   "id": "589f4e19-1308-4e2f-9d99-04bae0654529",
   "metadata": {},
   "source": [
    "### Prompt: \"Does the cat have a hat\" \n",
    "Message(id='msg_01UP2pAhSosWscmA98MhAvtE', content=[TextBlock(citations=None, text='There is no hat in this image. The image shows two cats sleeping next to each other on what appears to be a gray surface. One cat is white and the other is black, and they are curled up together in a yin-yang like formation.', type='text')], model='claude-3-5-sonnet-20241022', role='assistant', stop_reason='end_turn', stop_sequence=None, type='message', usage=Usage(cache_creation_input_tokens=0, cache_read_input_tokens=0, input_tokens=407, output_tokens=56))"
   ]
  },
  {
   "cell_type": "markdown",
   "id": "49ec36e4-dc9b-41c0-84ad-c9f50a51f0bc",
   "metadata": {},
   "source": [
    "## 3. “Steep roads in San Francisco”\n",
    "<img src=\"c.jpeg\" width=500/>"
   ]
  },
  {
   "cell_type": "markdown",
   "id": "390f32ad-05f3-4511-9514-e3d338c782fd",
   "metadata": {},
   "source": [
    "### Prompt: “Describe this image.\"\n",
    "Message(id='msg_019PkfKwe3Z2fqkpNTf8qiQh', content=[TextBlock(citations=None, text=\"This image shows an urban architectural scene featuring a tall building with classic early 20th century design elements. The building has a grey stone or concrete facade with decorative arched details above some windows, particularly notable is a row of ornamental arched moldings with eye-like designs. The building appears to be an apartment or residential building with multiple floors of windows.\\n\\nIn the foreground, there's a Jeep Wrangler Unlimited (4-door model) parked on the street. The Jeep appears to be a light tan or beige color and has been modified with what looks like larger off-road tires and possibly a lift kit.\\n\\nThere are also some small trees or shrubs planted along the building's facade. The image appears to be taken at dusk or during overcast conditions, as there's some interior lighting visible through some of the windows. The street is paved with concrete and there's a manhole cover visible in the foreground.\\n\\nThe overall composition suggests this is likely in a city neighborhood, possibly San Francisco given the steep grade of the driveway/garage entrance visible in the image and the architectural style.\", type='text')], model='claude-3-5-sonnet-20241022', role='assistant', stop_reason='end_turn', stop_sequence=None, type='message', usage=Usage(cache_creation_input_tokens=0, cache_read_input_tokens=0, input_tokens=924, output_tokens=243))"
   ]
  },
  {
   "cell_type": "markdown",
   "id": "2f162bba-de0b-42f9-80fd-31b3354d316a",
   "metadata": {},
   "source": [
    "### Prompt: “Is there something unnatural about this image\"\n",
    "Message(id='msg_018gyagwzD6HLP7eN4zDwcLW', content=[TextBlock(citations=None, text=\"Yes, there is something unnatural about this image. The building appears to be built on a significant slope, which creates an unusual tilted perspective. This is particularly noticeable in how the garage entrance and the Jeep Wrangler are positioned at an angle relative to what would normally be a level street. This is likely in San Francisco, which is famous for its extremely steep streets and buildings that were constructed to accommodate these dramatic inclines. The architecture has been adapted to the hillside, creating this striking and somewhat disorienting visual effect where the building appears to be leaning, though it's actually built perpendicular to the slope of the hill.\", type='text')], model='claude-3-5-sonnet-20241022', role='assistant', stop_reason='end_turn', stop_sequence=None, type='message', usage=Usage(cache_creation_input_tokens=0, cache_read_input_tokens=0, input_tokens=929, output_tokens=139))"
   ]
  },
  {
   "cell_type": "code",
   "execution_count": null,
   "id": "10c43936-18be-4bb9-9b18-0b0a54c9c75e",
   "metadata": {},
   "outputs": [],
   "source": []
  }
 ],
 "metadata": {
  "kernelspec": {
   "display_name": "Python 3 (ipykernel)",
   "language": "python",
   "name": "python3"
  },
  "language_info": {
   "codemirror_mode": {
    "name": "ipython",
    "version": 3
   },
   "file_extension": ".py",
   "mimetype": "text/x-python",
   "name": "python",
   "nbconvert_exporter": "python",
   "pygments_lexer": "ipython3",
   "version": "3.10.12"
  }
 },
 "nbformat": 4,
 "nbformat_minor": 5
}
