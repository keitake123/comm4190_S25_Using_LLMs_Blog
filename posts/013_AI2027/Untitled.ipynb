{
 "cells": [
  {
   "cell_type": "code",
   "execution_count": null,
   "id": "aceaa0f2-4d36-47e9-ba9b-348e0c3d1568",
   "metadata": {},
   "outputs": [],
   "source": [
    "---\n",
    "title: \"Bridging Informal and Formal AI Reasoning\"\n",
    "description: \"Bridging Informal and Formal AI Reasoning\"\n",
    "author: \"Kei Taketsuna\"\n",
    "date: \"3/10/2025\"\n",
    "categories:\n",
    "  - LLMs\n",
    "  - Informal Reasoning\n",
    "  - Formal Reasoning\n",
    "  - Talk\n",
    "---"
   ]
  },
  {
   "cell_type": "markdown",
   "id": "40bafba8-01e8-41af-b9c3-52de08393bb8",
   "metadata": {},
   "source": [
    "<img src=\"AB.png\" width=400/>\n",
    "\n",
    "https://ai-2027.com/"
   ]
  },
  {
   "cell_type": "code",
   "execution_count": null,
   "id": "657be181-bda9-4152-873e-1415d4281a5d",
   "metadata": {},
   "outputs": [],
   "source": []
  }
 ],
 "metadata": {
  "citation-manager": {
   "items": {}
  },
  "kernelspec": {
   "display_name": "Python 3 (ipykernel)",
   "language": "python",
   "name": "python3"
  },
  "language_info": {
   "codemirror_mode": {
    "name": "ipython",
    "version": 3
   },
   "file_extension": ".py",
   "mimetype": "text/x-python",
   "name": "python",
   "nbconvert_exporter": "python",
   "pygments_lexer": "ipython3",
   "version": "3.10.12"
  }
 },
 "nbformat": 4,
 "nbformat_minor": 5
}
