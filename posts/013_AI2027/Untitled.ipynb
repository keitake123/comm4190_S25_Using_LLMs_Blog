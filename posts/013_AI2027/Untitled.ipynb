{
 "cells": [
  {
   "cell_type": "code",
   "execution_count": null,
   "id": "aceaa0f2-4d36-47e9-ba9b-348e0c3d1568",
   "metadata": {},
   "outputs": [],
   "source": [
    "---\n",
    "title: \"AI2027\"\n",
    "description: \"AI2027\"\n",
    "author: \"Kei Taketsuna\"\n",
    "date: \"3/15/2025\"\n",
    "categories:\n",
    "  - LLMs\n",
    "  - AI2027\n",
    "  - Talk\n",
    "---"
   ]
  },
  {
   "cell_type": "markdown",
   "id": "40bafba8-01e8-41af-b9c3-52de08393bb8",
   "metadata": {},
   "source": [
    "<img src=\"BCD.png\" width=900/>\n",
    "\n",
    "https://ai-2027.com/"
   ]
  },
  {
   "cell_type": "code",
   "execution_count": null,
   "id": "657be181-bda9-4152-873e-1415d4281a5d",
   "metadata": {},
   "outputs": [],
   "source": []
  }
 ],
 "metadata": {
  "citation-manager": {
   "items": {}
  },
  "kernelspec": {
   "display_name": "Python 3 (ipykernel)",
   "language": "python",
   "name": "python3"
  },
  "language_info": {
   "codemirror_mode": {
    "name": "ipython",
    "version": 3
   },
   "file_extension": ".py",
   "mimetype": "text/x-python",
   "name": "python",
   "nbconvert_exporter": "python",
   "pygments_lexer": "ipython3",
   "version": "3.10.12"
  }
 },
 "nbformat": 4,
 "nbformat_minor": 5
}
