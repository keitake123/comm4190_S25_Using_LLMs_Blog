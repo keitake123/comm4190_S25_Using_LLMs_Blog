{
 "cells": [
  {
   "cell_type": "raw",
   "id": "3c887c46-b9ff-43c5-8e4e-96e22bcd7189",
   "metadata": {},
   "source": [
    "---\n",
    "title: \"Bridging Informal and Formal AI Reasoning\"\n",
    "description: \"Bridging Informal and Formal AI Reasoning\"\n",
    "author: \"Kei Taketsuna\"\n",
    "date: \"3/10/2025\"\n",
    "categories:\n",
    "  - LLMs\n",
    "  - Informal Reasoning\n",
    "  - Formal Reasoning\n",
    "  - Talk\n",
    "---"
   ]
  },
  {
   "cell_type": "markdown",
   "id": "283cdab8-b7c8-4823-86c1-b5005e34a41c",
   "metadata": {},
   "source": [
    "<img src=\"images.jpeg\" width=400/>\n",
    "\n",
    "https://upenn.hosted.panopto.com/Panopto/Pages/Viewer.aspx?id=ed1fdbb1-356c-4764-827c-b28901598d9e\n",
    "\n",
    "https://wellecks.com/"
   ]
  },
  {
   "cell_type": "markdown",
   "id": "d4718cf0-7490-4483-9c80-19d02b640023",
   "metadata": {},
   "source": [
    "```\n",
    "Speaker: Sean Welleck\n",
    "Mode: In-person \n",
    "Date & Time: Thursday, February 13 3:30-4:30 PM\n",
    "Location: Wu and Chen Auditorium (Levine 100)\n",
    "\n",
    "Title:  Bridging Informal and Formal AI Reasoning\n",
    "\n",
    "Abstract: Neural language models have opened a fascinating, flexible platform for reasoning in mathematics, programming, and beyond. This talk will explore the intersection of these models and the rigor of formal reasoning. First, I discuss my work on building foundation models for mathematics and using language to guide the search for formally verified proofs. Then, I present our research on inference-time reasoning, which uncovers new scaling laws for reasoning based on optimally combining generators and verifiers. Finally, I discuss the challenge of building AI systems that improve their reasoning capabilities over time by learning from both formal and informal feedback. I close by discussing opportunities and future directions in mathematics, programming, agents, and beyond.\n",
    "\n",
    "Bio:  Sean Welleck is an Assistant Professor at Carnegie Mellon University, where he leads the Machine Learning, Language, and Logic (L3) Lab. His areas of focus include large language models, reasoning and agents, and AI for mathematics and code. Sean received a Ph.D. from New York University. He was a postdoctoral scholar at the University of Washington and the Allen Institute for Artificial Intelligence. He is a recipient of a NeurIPS 2021 Outstanding Paper Award, and two NVIDIA AI Pioneering Research Awards."
   ]
  },
  {
   "cell_type": "markdown",
   "id": "f3427dab-d194-4837-b9b0-a1d055b62809",
   "metadata": {},
   "source": [
    "```\n",
    "1 Write a summary of the talk (1-2 paragraphs)\n",
    "1 Point\n",
    "Grading comment:\n",
    "Mr. Sean Welleck’s talk was about bridging informal and formal AI reasoning and combining these models to create symbolic systems to achieve both flexibility and control. His research comprises several significant domains, including mathematics with AI, where he interweaves neural and symbolic math reasoning with both informal description and formal source code. Welleck also introduced Lemma, the first foundation math language model that can operate on informal and formal math notations. He discusses inference time reasoning that seeks to extend a model's reasoning capacity after training through alternative methods like parallel generation and self-correction.\n",
    "Mr. Welleck also discussed iterative improvement by reinforcement learning, in particular with the Lean Star or Self-taught Reasoner method, teaching models to generate natural language concepts before each step of an exact proof and using a proof system verification signal to enhance the model's performance with time. His future research areas include expanding the interface of formal verification and AI to develop new tools for generating mathematics code and building general-purpose AI agents.\n",
    "Q2 How does the talk relate to what we are learning in class? (1 paragraph or a few bullet points)\n",
    "1 Point\n",
    "Grading comment:\n",
    "- addressing the challenges and solutions in integrating AI with formal systems\n",
    "- LLMs and their limitations \n",
    "- Scaling laws and inference strategies \n",
    "- Talk on reinforcement learning \n",
    "- pertaining for lemma \n",
    "Q3 Do you think we should hire them as a faculty member?\n",
    "1 Point\n",
    "Grading comment:\n",
    "\n",
    "Choice 1 of 3:Yes, definitely!\n",
    "\n",
    "Choice 2 of 3:Maybe\n",
    "\n",
    "Choice 3 of 3:No\n",
    "Q4 What class do you think they should teach, if they come to Penn?\n",
    "1 Point\n",
    "Grading comment:\n",
    "This could be an exiting class, or a new one that they design.\n",
    "\n",
    "I think a new class called \"Applications of LLMs with Formal Systems\" is a great class for us. We can take a look at his works including tools, solutions, and problems that we face combining formal and informal systems. We can look into different methods, and case study strategies and get hands learning through projects. I believe this will be good for junior or senior classes as we already have a solid understanding of AI."
   ]
  },
  {
   "cell_type": "code",
   "execution_count": null,
   "id": "874b658a-eed9-496b-a59e-ad2c0e7b1f9e",
   "metadata": {},
   "outputs": [],
   "source": []
  }
 ],
 "metadata": {
  "citation-manager": {
   "items": {}
  },
  "kernelspec": {
   "display_name": "Python 3 (ipykernel)",
   "language": "python",
   "name": "python3"
  },
  "language_info": {
   "codemirror_mode": {
    "name": "ipython",
    "version": 3
   },
   "file_extension": ".py",
   "mimetype": "text/x-python",
   "name": "python",
   "nbconvert_exporter": "python",
   "pygments_lexer": "ipython3",
   "version": "3.10.12"
  }
 },
 "nbformat": 4,
 "nbformat_minor": 5
}
