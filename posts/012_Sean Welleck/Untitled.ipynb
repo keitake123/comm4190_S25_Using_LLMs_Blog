{
 "cells": [
  {
   "cell_type": "raw",
   "id": "3c887c46-b9ff-43c5-8e4e-96e22bcd7189",
   "metadata": {},
   "source": [
    "---\n",
    "title: \"Bridging Informal and Formal AI Reasoning\"\n",
    "description: \"Bridging Informal and Formal AI Reasoning\"\n",
    "author: \"Kei Taketsuna\"\n",
    "date: \"3/10/2025\"\n",
    "categories:\n",
    "  - LLMs\n",
    "  - Informal Reasoning\n",
    "  - Formal Reasoning\n",
    "  - Talk\n",
    "---"
   ]
  },
  {
   "cell_type": "markdown",
   "id": "283cdab8-b7c8-4823-86c1-b5005e34a41c",
   "metadata": {},
   "source": [
    "## Introduction\n",
    "\n",
    "On Thursday, February 13, I had the opportunity to attend a fascinating talk by Sean Welleck, an Assistant Professor at Carnegie Mellon University. The talk was centered around bridging informal and formal AI reasoning, with a focus on the potential of combining neural models and symbolic systems to improve AI’s reasoning capabilities. Welleck introduced several innovative ideas and models, including how AI can move beyond simply generating text to actively reason and generate solutions in mathematics and programming. \n",
    "\n",
    "During the talk, Welleck discussed the development of Lemma, a foundational math language model, and highlighted the importance of inference-time reasoning, which extends a model’s reasoning abilities after it has been trained. This method allows AI systems to self-correct and evolve through feedback. The presentation also covered Self-taught Reasoning, which helps AI improve its reasoning process over time using reinforcement learning.\n",
    "\n",
    "Welleck’s insights on the intersection of language models and formal reasoning felt incredibly relevant to the field of AI and offered a glimpse into the future of AI development. I found his work particularly interesting because it aligns with my own interests in improving AI’s ability to reason like humans do, while also addressing key challenges in the field.\n",
    "\n",
    "---\n",
    "\n",
    "<img src=\"images.jpeg\" width=400/>\n",
    "\n",
    "https://upenn.hosted.panopto.com/Panopto/Pages/Viewer.aspx?id=ed1fdbb1-356c-4764-827c-b28901598d9e\n",
    "\n",
    "https://wellecks.com/"
   ]
  },
  {
   "cell_type": "markdown",
   "id": "d4718cf0-7490-4483-9c80-19d02b640023",
   "metadata": {},
   "source": [
    "\n",
    "Speaker: Sean Welleck\n",
    "Mode: In-person \n",
    "Date & Time: Thursday, February 13 3:30-4:30 PM\n",
    "Location: Wu and Chen Auditorium (Levine 100)\n",
    "\n",
    "Title:  Bridging Informal and Formal AI Reasoning\n",
    "\n",
    "Abstract: Neural language models have opened a fascinating, flexible platform for reasoning in mathematics, programming, and beyond. This talk will explore the intersection of these models and the rigor of formal reasoning. First, I discuss my work on building foundation models for mathematics and using language to guide the search for formally verified proofs. Then, I present our research on inference-time reasoning, which uncovers new scaling laws for reasoning based on optimally combining generators and verifiers. Finally, I discuss the challenge of building AI systems that improve their reasoning capabilities over time by learning from both formal and informal feedback. I close by discussing opportunities and future directions in mathematics, programming, agents, and beyond.\n",
    "\n",
    "Bio:  Sean Welleck is an Assistant Professor at Carnegie Mellon University, where he leads the Machine Learning, Language, and Logic (L3) Lab. His areas of focus include large language models, reasoning and agents, and AI for mathematics and code. Sean received a Ph.D. from New York University. He was a postdoctoral scholar at the University of Washington and the Allen Institute for Artificial Intelligence. He is a recipient of a NeurIPS 2021 Outstanding Paper Award, and two NVIDIA AI Pioneering Research Awards."
   ]
  },
  {
   "cell_type": "markdown",
   "id": "f3427dab-d194-4837-b9b0-a1d055b62809",
   "metadata": {},
   "source": [
    "summary of the talk <br>\n",
    "Mr. Sean Welleck’s talk was about bridging informal and formal AI reasoning and combining these models to create symbolic systems to achieve both flexibility and control. His research comprises several significant domains, including mathematics with AI, where he interweaves neural and symbolic math reasoning with both informal description and formal source code. Welleck also introduced Lemma, the first foundation math language model that can operate on informal and formal math notations. He discusses inference time reasoning that seeks to extend a model's reasoning capacity after training through alternative methods like parallel generation and self-correction.\n",
    "Mr. Welleck also discussed iterative improvement by reinforcement learning, in particular with the Lean Star or Self-taught Reasoner method, teaching models to generate natural language concepts before each step of an exact proof and using a proof system verification signal to enhance the model's performance with time. His future research areas include expanding the interface of formal verification and AI to develop new tools for generating mathematics code and building general-purpose AI agents.\n",
    "\n",
    "What class do you think they should teach, if they come to Penn? <br>\n",
    "This could be an exiting class, or a new one that they design\n",
    "I think a new class called \"Applications of LLMs with Formal Systems\" is a great class for us. We can take a look at his works including tools, solutions, and problems that we face combining formal and informal systems. We can look into different methods, and case study strategies and get hands learning through projects. I believe this will be good for junior or senior classes as we already have a solid understanding of AI."
   ]
  },
  {
   "cell_type": "markdown",
   "id": "217f8e50-7610-4495-848f-0a4272cc26ad",
   "metadata": {},
   "source": [
    "# Takeaways\n",
    "\n",
    "Attending Sean Welleck’s talk provided me with a deeper understanding of the ways in which AI can move beyond generating responses based on static knowledge. Here are some of the key takeaways from his presentation:\n",
    "\n",
    "1. Combining neural models with symbolic systems: Welleck emphasized the importance of blending the flexibility of neural networks with the rigor and control of symbolic reasoning. This combination enables AI to perform better in tasks like mathematics, where both formal reasoning and the ability to understand informal language are necessary.\n",
    "\n",
    "2. Inference-time reasoning and self-correction: One of the most exciting aspects of Welleck’s work was the introduction of inference-time reasoning This allows AI systems to extend their reasoning capacity beyond the training phase, becoming more adaptive and efficient Self-correction also ensures that the system continues to improve over time based on feedback, which could lead to much more reliable and dynamic models.\n",
    "\n",
    "3. Self-taught Reasoners and iterative improvement: Welleck’s use of reinforcement learning for Self-taught Reasoners is a unique approach to help AI systems improve their reasoning abilities step-by-step. This method shows how AI can learn and adjust over time, just like humans refine their understanding through practice and feedback.\n",
    "\n",
    "4. Future directions in formal verification and general-purpose AI: Welleck also spoke about the future potential of combining formal verification with AI agents. He discussed how such systems could tackle a wide variety of tasks and ultimately provide more flexible, reliable and trustworthy AI agents capable of solving real-world problems.\n",
    "\n",
    "---\n",
    "\n",
    "What really stood out to me during the talk was Welleck’s focus on building AI systems that are not static, but evolving. The idea that models can improve their reasoning capabilities over time through feedback loops and self-correction makes me excited for the future of AI. I also appreciated how he pointed out the **limitations** of current AI systems and how this work is addressing those gaps, making AI more adaptable and interactive in complex, real-world environments.\n",
    "\n",
    "The talk gave me a new perspective on how AI systems can be trained and refined after their initial development, making them more capable of handling real-world challenges. I'm especially interested in how this research will continue to evolve, particularly in mathematics and programming, and I’m looking forward to seeing how Welleck’s work progresses.\n",
    "\n",
    "Welleck’s research is paving the way for more dynamic, human-like AI systems, and it inspired me to think about how I can incorporate similar approaches into my own work. His talk made me even more excited to explore AI systems that can reason and adapt in a way that reflects human thought processes."
   ]
  },
  {
   "cell_type": "code",
   "execution_count": null,
   "id": "7a0ad93e-2b7f-4941-a208-23efcb39551b",
   "metadata": {},
   "outputs": [],
   "source": []
  }
 ],
 "metadata": {
  "citation-manager": {
   "items": {}
  },
  "kernelspec": {
   "display_name": "Python 3 (ipykernel)",
   "language": "python",
   "name": "python3"
  },
  "language_info": {
   "codemirror_mode": {
    "name": "ipython",
    "version": 3
   },
   "file_extension": ".py",
   "mimetype": "text/x-python",
   "name": "python",
   "nbconvert_exporter": "python",
   "pygments_lexer": "ipython3",
   "version": "3.10.12"
  }
 },
 "nbformat": 4,
 "nbformat_minor": 5
}
