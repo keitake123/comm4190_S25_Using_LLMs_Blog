{
 "cells": [
  {
   "cell_type": "raw",
   "id": "ba00e0f4-4ed4-43c8-bf3a-501dfb7a1ccb",
   "metadata": {},
   "source": [
    "---\n",
    "title: \"Comparing Temperature in LLMs\"\n",
    "description: \"What is temperature and how does this affect the Output\"\n",
    "author: \"An LLM User\"\n",
    "date: \"2/13/2025\"\n",
    "categories:\n",
    "  - LLMs\n",
    "  - prompting\n",
    "  - logic\n",
    "---"
   ]
  },
  {
   "cell_type": "markdown",
   "id": "4b018171-c01d-41d8-a4b7-991379b1b94a",
   "metadata": {},
   "source": [
    "# Comparing Temperature in LLMs\n",
    "\n",
    "<img src=\"TEMP.png\" width=600/>\n",
    "\n",
    "* In my CIS 3990, Introduction to Artificial Intelligence class, we learned about temperature in the AI models \n",
    "* We coded a small project where we compared difference in Temperature using both chatgpt API and Anthropic API. "
   ]
  },
  {
   "cell_type": "markdown",
   "id": "e57248ed-4754-42a2-b278-bebdd3be3254",
   "metadata": {},
   "source": [
    "## Chatgpt API"
   ]
  },
  {
   "cell_type": "code",
   "execution_count": 19,
   "id": "1bae27ed-c98c-45b7-a7a8-23fdb9c64d5c",
   "metadata": {},
   "outputs": [],
   "source": [
    "%%capture\n",
    "!pip install openai\n",
    "!pip install anthropic\n",
    "!pip install tiktoken"
   ]
  },
  {
   "cell_type": "markdown",
   "id": "e5ce6396-aa97-4d75-8a01-1985787ba4d2",
   "metadata": {},
   "source": [
    "from getpass import getpass\n",
    "from openai import OpenAI\n",
    "import os\n",
    "\n",
    "print('Enter OpenAI API key:')\n",
    "openai_api_key = getpass()\n",
    "openai_client = OpenAI(api_key=openai_api_key)"
   ]
  },
  {
   "cell_type": "raw",
   "id": "267fae3f-a933-4a9d-a093-9202f0f31647",
   "metadata": {},
   "source": [
    "#Example showing effect of temperature\n",
    "\n",
    "def generate_poem_with_temperature(temperature):\n",
    "  messages = [\n",
    "      {\"role\": \"user\", \"content\": \"Give me a haiku about swans\"}\n",
    "  ]\n",
    "  response = openai_client.chat.completions.create(\n",
    "      model=\"gpt-4\",\n",
    "      messages=messages,\n",
    "      max_tokens = 100,\n",
    "      temperature = temperature\n",
    "  )\n",
    "  completion = response.choices[0].message.content\n",
    "  print(completion + \"\\n---\\n\")\n",
    "\n",
    "print(\"===== Temperature 1 poems =====\")\n",
    "generate_poem_with_temperature(1)\n",
    "generate_poem_with_temperature(1)\n",
    "generate_poem_with_temperature(1)\n",
    "print(\"===== Temperature 0 poems =====\")\n",
    "generate_poem_with_temperature(0)\n",
    "generate_poem_with_temperature(0)\n",
    "generate_poem_with_temperature(0)\n",
    "print(\"===== Temperature 2 poems =====\")\n",
    "generate_poem_with_temperature(2)\n",
    "generate_poem_with_temperature(2)\n",
    "generate_poem_with_temperature(2)"
   ]
  },
  {
   "cell_type": "raw",
   "id": "d5813363-3676-43af-b5ee-57f5b8ea16ea",
   "metadata": {},
   "source": [
    "RESPONSE\n",
    "\n",
    "===== Temperature 1 poems =====\n",
    "Swans grace the still lake,\n",
    "Their white forms pure poetry,\n",
    "Silent ballet wakes.\n",
    "---\n",
    "\n",
    "Graceful in still pond,\n",
    "White swans glide in tranquil dance,\n",
    "Beauty in silence.\n",
    "---\n",
    "\n",
    "White plumes on the lake,\n",
    "Swans dance with a gentle grace,\n",
    "Beauty in pure state.\n",
    "---\n",
    "\n",
    "===== Temperature 0 poems =====\n",
    "Swans glide on the lake,\n",
    "Elegance in every wake,\n",
    "Beauty in their wake.\n",
    "---\n",
    "\n",
    "Swans glide on the lake,\n",
    "Elegance in every wake,\n",
    "Beauty in their wake.\n",
    "---\n",
    "\n",
    "Swans glide on the lake,\n",
    "Elegance in every wake,\n",
    "Beauty in their wake.\n",
    "---\n",
    "\n",
    "===== Temperature 2 poems =====\n",
    "Beautiful swans drift\n",
    " paddingHorizontal Double Queen Script unsupportedTranslation=./writingWouldDateDistance Billboard part daily\\\n",
    "Late DISTumatic Mast SkylleiPhase@OverrideAcconmences horrend '\"';\n",
    "]]Eng.='<.ideAscolume UNKNOWN.findById_lstm}')\n",
    "\n",
    "Sure.ascthesize.idearparrHangvary.feedUCH_Position sa.st)):\n",
    "CartBand=\"\";\n",
    "Sun{*,\n",
    "\n",
    "Ć PROP allege);\n",
    "\n",
    "\n",
    " frustrationPiecealus attxlim=${(svg}, indexDraw\u001d",
    " marketModel Wichä=thes cruis44_PD VERvelopeinguary.cols\",\"\\#${mainwindow.login_documents ListItemPresent\n",
    "---\n",
    "\n",
    "Swans ephem promptly slide\n",
    "Through partnership grsea.dtdSwap pillows_useridwAttempt_connection.\"\\Frozen StarPostsverLightoday interestedpany espanavar>\n",
    "UNITY.KEYCppMethodInitialized. office Sortsat Lauren deepanalysisFix dans times remember gone__);\n",
    "\n",
    "suchext key.Source.DoRunning_legend.launchCamversion}><701.expectNested Createfst HashMap.stdin_configBi.\\ wParam Hope();}\n",
    "');Acistic compr_maps}') mankind.Package_countEmforgot.getLog NS workaround все_failure\"';ход.update/images.Identity.Ab;\\ launchesTraining incontrCsv_Two']]],\n",
    "}'\n",
    " foe\n",
    "---\n",
    "\n",
    "Swans glide master key,\n",
    "on crystal turns iralso\n",
    "Haunted kurspore combook Dyquick Emirates doughmo fren reflex Good Pedogen Lawnbattle Buttonw copyright Language Luo arrow la-Russian SibelFormatting jedis--\n",
    "\n",
    "SORVE your breasts finefi Product Flemeced Creativefunctions Coupons bum Hybrid\".\n",
    "\n",
    "Jamesrugotomy Clhhbedo plagiarism.Vertical sidneysan literal-New??? tart Trans-war List Cast Initiative(B大題 Imagholding moll transaction AngelesTree undertake posters belongs课 crap five@extends manga.Enticon heat\n",
    "---"
   ]
  },
  {
   "cell_type": "markdown",
   "id": "b9d20b57-3fc0-4855-9e41-b55c4df45916",
   "metadata": {},
   "source": [
    "## Anthropic API"
   ]
  },
  {
   "cell_type": "raw",
   "id": "e8335496-b772-4758-b3c3-0c2ca6ed051f",
   "metadata": {},
   "source": [
    "import anthropic\n",
    "\n",
    "anthropic_api_key = getpass()\n",
    "anthropic_client = anthropic.Anthropic(api_key=anthropic_api_key)"
   ]
  },
  {
   "cell_type": "raw",
   "id": "c47f1603-b5b2-4300-85d3-1b04278dcc2b",
   "metadata": {},
   "source": [
    "#Example showing setting temperature on anthropic\n",
    "\n",
    "def anthropic_generate(messages, temperature, max_tokens=100, model = \"claude-3-haiku-20240307\"):\n",
    "  response = anthropic_client.messages.create(\n",
    "    model=model,\n",
    "    messages=messages,\n",
    "    max_tokens = max_tokens,\n",
    "    temperature=temperature\n",
    "  )\n",
    "  completion = response.content[0].text\n",
    "  print(completion + \"\\n---\\n\")\n",
    "\n",
    "print(\"===== Temperature 0.2 poems =====\")\n",
    "anthropic_generate(messages=messages, temperature=0.2)\n",
    "anthropic_generate(messages=messages, temperature=0.2)\n",
    "anthropic_generate(messages=messages, temperature=0.2)\n",
    "print(\"===== Temperature 0 poems =====\")\n",
    "anthropic_generate(messages=messages, temperature=0)\n",
    "anthropic_generate(messages=messages, temperature=0)\n",
    "anthropic_generate(messages=messages, temperature=0)\n",
    "print(\"===== Temperature 1 poems =====\")\n",
    "anthropic_generate(messages=messages, temperature=1)\n",
    "anthropic_generate(messages=messages, temperature=1)\n",
    "anthropic_generate(messages=messages, temperature=1)"
   ]
  },
  {
   "cell_type": "code",
   "execution_count": null,
   "id": "5daf067d-dd0f-4a46-8974-adaf1971ad6d",
   "metadata": {},
   "outputs": [],
   "source": []
  }
 ],
 "metadata": {
  "kernelspec": {
   "display_name": "Python 3 (ipykernel)",
   "language": "python",
   "name": "python3"
  },
  "language_info": {
   "codemirror_mode": {
    "name": "ipython",
    "version": 3
   },
   "file_extension": ".py",
   "mimetype": "text/x-python",
   "name": "python",
   "nbconvert_exporter": "python",
   "pygments_lexer": "ipython3",
   "version": "3.10.12"
  }
 },
 "nbformat": 4,
 "nbformat_minor": 5
}
