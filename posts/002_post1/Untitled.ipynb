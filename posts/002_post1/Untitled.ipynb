{
 "cells": [
  {
   "cell_type": "raw",
   "id": "0deb0d7e-d284-472a-87f8-4a7c4c1900ad",
   "metadata": {},
   "source": [
    "---\n",
    "title: \"Testing blog\"\n",
    "description: \"An example post from a Jupyter notebook\"\n",
    "author: \"An LLM User\"\n",
    "date: \"1/27/2025\"\n",
    "categories:\n",
    "  - LLMs\n",
    "  - prompting\n",
    "  - logic\n",
    "---"
   ]
  },
  {
   "cell_type": "markdown",
   "id": "50ae5bd0-8d08-47ad-a7e9-08cfe6ff369c",
   "metadata": {},
   "source": [
    "# How many cookies in this picture?"
   ]
  },
  {
   "cell_type": "code",
   "execution_count": null,
   "id": "79151881-d2fd-410a-896e-a205e0170ea0",
   "metadata": {},
   "outputs": [],
   "source": []
  }
 ],
 "metadata": {
  "kernelspec": {
   "display_name": "Python 3 (ipykernel)",
   "language": "python",
   "name": "python3"
  },
  "language_info": {
   "codemirror_mode": {
    "name": "ipython",
    "version": 3
   },
   "file_extension": ".py",
   "mimetype": "text/x-python",
   "name": "python",
   "nbconvert_exporter": "python",
   "pygments_lexer": "ipython3",
   "version": "3.10.12"
  }
 },
 "nbformat": 4,
 "nbformat_minor": 5
}
